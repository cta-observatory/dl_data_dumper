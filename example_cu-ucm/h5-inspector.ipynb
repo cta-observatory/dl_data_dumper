{
 "cells": [
  {
   "cell_type": "code",
   "execution_count": null,
   "metadata": {
    "collapsed": true
   },
   "outputs": [],
   "source": [
    "import tables\n",
    "import numpy as np\n",
    "import matplotlib.pyplot as plt\n",
    "%matplotlib inline"
   ]
  },
  {
   "cell_type": "code",
   "execution_count": null,
   "metadata": {},
   "outputs": [],
   "source": [
    "f = tables.open_file(\"gamma_cone10_sample.h5\", \"r\")"
   ]
  },
  {
   "cell_type": "markdown",
   "metadata": {},
   "source": [
    "### Provenance information stored as attributes\n",
    "\n",
    "* Versions of involved code\n",
    "* Corsika and simtel main parameters\n",
    "* Simtel filenames"
   ]
  },
  {
   "cell_type": "code",
   "execution_count": null,
   "metadata": {},
   "outputs": [],
   "source": [
    "f.root._v_attrs"
   ]
  },
  {
   "cell_type": "markdown",
   "metadata": {},
   "source": [
    "### Flat file structure: everything else is stored as tables\n",
    "\n",
    "* Three tables containing:\n",
    "    + Array information\n",
    "    + Telescope type information\n",
    "    + Event information\n",
    "* Plus one table per telescope containing:\n",
    "    + 2x 1D arrays with calibrated pixels data per image (charge, arrival time)"
   ]
  },
  {
   "cell_type": "code",
   "execution_count": null,
   "metadata": {},
   "outputs": [],
   "source": [
    "for node in f:\n",
    "    print(node)"
   ]
  },
  {
   "cell_type": "markdown",
   "metadata": {},
   "source": [
    "### Array information table"
   ]
  },
  {
   "cell_type": "code",
   "execution_count": null,
   "metadata": {},
   "outputs": [],
   "source": [
    "f.root.Array_Info"
   ]
  },
  {
   "cell_type": "code",
   "execution_count": null,
   "metadata": {},
   "outputs": [],
   "source": [
    "tel_types=['LST','MSTS','SSTC']\n",
    "\n",
    "arr_table=f.root.Array_Info\n",
    "\n",
    "fig, ax = plt.subplots(figsize=(10,10))\n",
    "\n",
    "for tel_type in tel_types:\n",
    "    tel_x = [x['tel_x'] for x in arr_table.iterrows() if x['tel_type'] == tel_type.encode('ascii')]\n",
    "    tel_y = [x['tel_y'] for x in arr_table.iterrows() if x['tel_type'] == tel_type.encode('ascii')]\n",
    "    plt.scatter(tel_x, tel_y, label=tel_type)\n",
    "    \n",
    "ax.legend()\n",
    "ax.grid()\n",
    "plt.show()"
   ]
  },
  {
   "cell_type": "markdown",
   "metadata": {},
   "source": [
    "### Telescope information table"
   ]
  },
  {
   "cell_type": "code",
   "execution_count": null,
   "metadata": {},
   "outputs": [],
   "source": [
    "f.root.Telescope_Info"
   ]
  },
  {
   "cell_type": "markdown",
   "metadata": {},
   "source": [
    "### Event information table"
   ]
  },
  {
   "cell_type": "code",
   "execution_count": null,
   "metadata": {},
   "outputs": [],
   "source": [
    "f.root.Event_Info"
   ]
  },
  {
   "cell_type": "markdown",
   "metadata": {},
   "source": [
    "### Example 1: extract some infos from a given event"
   ]
  },
  {
   "cell_type": "code",
   "execution_count": null,
   "metadata": {},
   "outputs": [],
   "source": [
    "event_index = 44\n",
    "my_event = f.root.Event_Info[event_index]\n",
    "print('Event number: {}'.format(my_event['event_number']))\n",
    "print('Energy: {} TeV'.format(my_event['mc_energy']))\n",
    "print('Alt: {} rad'.format(my_event['alt']))\n",
    "print('Az: {} rad'.format(my_event['az']))\n",
    "tel_types = ['LST','MSTS','SSTC']\n",
    "for tel_type in tel_types:\n",
    "    tel_indices = '{}_indices'.format(tel_type)\n",
    "    print('{} = {}'.format(tel_indices,my_event[tel_indices]))"
   ]
  },
  {
   "cell_type": "markdown",
   "metadata": {},
   "source": [
    "### Example 2: plot all charge and arrival time images for a given event"
   ]
  },
  {
   "cell_type": "code",
   "execution_count": null,
   "metadata": {},
   "outputs": [],
   "source": [
    "tel_types=['LST','MSTS','MSTN','MSTF','SSTC','SST1','SSTA']\n",
    "\n",
    "tel_type_size={'LST':15,'MSTS':2,'MSTN':15,'MSTF':15,'SSTC':15,'SSTA':15,'SST1':15} #Size of the scatter plot point, for visualization purposes only\n",
    "\n",
    "tel_table=f.root.Telescope_Info\n",
    "\n",
    "for tel_type in tel_types:\n",
    "    pos_x, pos_y = [x['pixel_pos'] for x in tel_table.iterrows() if x['tel_type'] == tel_type.encode('ascii')][0]\n",
    "    tel_ids = [x['tel_id'] for x in arr_table.iterrows() if x['tel_type'] == tel_type.encode('ascii')]\n",
    "    exec('my_images = f.root.{}'.format(tel_type))\n",
    "    my_indices = my_event['{}_indices'.format(tel_type)]\n",
    "    for img_index in my_indices:\n",
    "        if img_index > 0:\n",
    "            img_charge = my_images[img_index]['image_charge']\n",
    "            img_time = my_images[img_index]['image_peak_times']\n",
    "            print('Telescope type: {}, ID: {}'.format(tel_type,tel_ids[list(my_indices).index(img_index)]))\n",
    "            plt.figure(figsize=(15,5))\n",
    "            plt.subplot(1, 2, 1)\n",
    "            plt.scatter(pos_x[:len(img_charge)], pos_y[:len(img_charge)], c=img_charge, s=tel_type_size[tel_type])\n",
    "            plt.axis('square')\n",
    "            plt.colorbar()\n",
    "            plt.subplot(1, 2, 2)\n",
    "            plt.scatter(pos_x[:len(img_time)], pos_y[:len(img_time)], c=img_time, s=tel_type_size[tel_type])\n",
    "            plt.axis('square')\n",
    "            plt.colorbar()\n",
    "            plt.show()"
   ]
  }
 ],
 "metadata": {
  "kernelspec": {
   "display_name": "Python 3",
   "language": "python",
   "name": "python3"
  },
  "language_info": {
   "codemirror_mode": {
    "name": "ipython",
    "version": 3
   },
   "file_extension": ".py",
   "mimetype": "text/x-python",
   "name": "python",
   "nbconvert_exporter": "python",
   "pygments_lexer": "ipython3",
   "version": "3.6.3"
  }
 },
 "nbformat": 4,
 "nbformat_minor": 2
}
